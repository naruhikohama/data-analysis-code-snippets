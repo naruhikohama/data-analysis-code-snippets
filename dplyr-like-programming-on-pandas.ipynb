{
 "cells": [
  {
   "cell_type": "code",
   "execution_count": 1,
   "metadata": {},
   "outputs": [],
   "source": [
    "import pandas as pd\n",
    "from sklearn import datasets"
   ]
  },
  {
   "cell_type": "code",
   "execution_count": 2,
   "metadata": {},
   "outputs": [],
   "source": [
    "iris = datasets.load_iris()"
   ]
  },
  {
   "cell_type": "markdown",
   "metadata": {},
   "source": [
    "# Manipulação de dados para usuários de R\n",
    "A ideia aqui é trazer um pouco da minha experiência com manipulação de dados nas duas linguagens de programação, facilitando a migração principalmente de usuários de dplyr que estão agora usando pandas para a manipulação de dados.\n",
    "\n",
    "O formato das duas linguagens é naturalmente diferente, mas é possível adaptar a forma de aplicar as manipulações feitas em R para algo semelhante em pandas.\n",
    "\n",
    "O objetivo desse documento é tentar trazer um pouco das equivalências que podem ser feitas no pandas para quem veio do dplyr.\n",
    "\n",
    "Espero que ajude que passar por aqui!"
   ]
  },
  {
   "cell_type": "code",
   "execution_count": null,
   "metadata": {},
   "outputs": [],
   "source": []
  }
 ],
 "metadata": {
  "kernelspec": {
   "display_name": "Python 3",
   "language": "python",
   "name": "python3"
  },
  "language_info": {
   "codemirror_mode": {
    "name": "ipython",
    "version": 3
   },
   "file_extension": ".py",
   "mimetype": "text/x-python",
   "name": "python",
   "nbconvert_exporter": "python",
   "pygments_lexer": "ipython3",
   "version": "3.10.4"
  },
  "orig_nbformat": 4
 },
 "nbformat": 4,
 "nbformat_minor": 2
}
